{
 "cells": [
  {
   "cell_type": "code",
   "execution_count": 1,
   "id": "d53ff422-93fe-4724-83c7-e60340d6cbdc",
   "metadata": {},
   "outputs": [],
   "source": [
    "import pandas as pd\n",
    "import numpy as np\n",
    "import matplotlib.pyplot as plt\n",
    "import seaborn as sns\n",
    "plt.style.use('ggplot')"
   ]
  },
  {
   "cell_type": "markdown",
   "id": "a9cadcf9-e112-4ccd-a391-7b2297714580",
   "metadata": {},
   "source": [
    "# Description\n",
    "We have been provided with datasets from the EchoNest project that we will use in our music recommendation system.\n",
    "\n",
    "The datasets are:\n",
    "**song_data**: Contains data about songs on Spotify\n",
    "* song_id: The unique ID of a song on Spotify\n",
    "* title: The title of that song\n",
    "* release: The album name\n",
    "* artist_name: The name of the artist\n",
    "* year: The release year\n",
    "\n",
    "**count_data**: Contains data about users, which songs they listened to, and how many times.\n",
    "* user_id: the unique ID for a Spotify user\n",
    "* song_id: the unique ID of the song they listened to. Maps to song_data.song_id\n",
    "* play_count: the number of times that user listened to that song.\n",
    "\n",
    "As part of this milestone, we are working on defining the project, and exploring the data set. This notebook focuses on the latter.\n",
    "\n",
    "## Objective\n",
    "Identify any data pre-processing required. Proceed to necessary cleaning.\n",
    "\n",
    "## Process\n",
    "For this step I will:\n",
    "1) Import the data sets\n",
    "2) Proceed to descriptive analysis using info() and describe()\n",
    "3) Identify and handle duplicates\n",
    "4) Identify and handle missing records\n",
    "\n",
    "### Importing the data sets\n"
   ]
  },
  {
   "cell_type": "code",
   "execution_count": 2,
   "id": "34d136c5-ccb2-454f-8a2f-20ed69ac71b1",
   "metadata": {},
   "outputs": [],
   "source": [
    "songs_df = pd.read_csv('../../dataset/song_data.csv')\n",
    "users_df = pd.read_csv('../../dataset/count_data.csv', usecols=['user_id', 'song_id', 'play_count'])"
   ]
  },
  {
   "cell_type": "code",
   "execution_count": 3,
   "id": "0753f527-f8a8-4945-87fb-3feea925937f",
   "metadata": {},
   "outputs": [
    {
     "data": {
      "text/html": [
       "<div>\n",
       "<style scoped>\n",
       "    .dataframe tbody tr th:only-of-type {\n",
       "        vertical-align: middle;\n",
       "    }\n",
       "\n",
       "    .dataframe tbody tr th {\n",
       "        vertical-align: top;\n",
       "    }\n",
       "\n",
       "    .dataframe thead th {\n",
       "        text-align: right;\n",
       "    }\n",
       "</style>\n",
       "<table border=\"1\" class=\"dataframe\">\n",
       "  <thead>\n",
       "    <tr style=\"text-align: right;\">\n",
       "      <th></th>\n",
       "      <th>song_id</th>\n",
       "      <th>title</th>\n",
       "      <th>release</th>\n",
       "      <th>artist_name</th>\n",
       "      <th>year</th>\n",
       "    </tr>\n",
       "  </thead>\n",
       "  <tbody>\n",
       "    <tr>\n",
       "      <th>0</th>\n",
       "      <td>SOQMMHC12AB0180CB8</td>\n",
       "      <td>Silent Night</td>\n",
       "      <td>Monster Ballads X-Mas</td>\n",
       "      <td>Faster Pussy cat</td>\n",
       "      <td>2003</td>\n",
       "    </tr>\n",
       "    <tr>\n",
       "      <th>1</th>\n",
       "      <td>SOVFVAK12A8C1350D9</td>\n",
       "      <td>Tanssi vaan</td>\n",
       "      <td>Karkuteillä</td>\n",
       "      <td>Karkkiautomaatti</td>\n",
       "      <td>1995</td>\n",
       "    </tr>\n",
       "    <tr>\n",
       "      <th>2</th>\n",
       "      <td>SOGTUKN12AB017F4F1</td>\n",
       "      <td>No One Could Ever</td>\n",
       "      <td>Butter</td>\n",
       "      <td>Hudson Mohawke</td>\n",
       "      <td>2006</td>\n",
       "    </tr>\n",
       "    <tr>\n",
       "      <th>3</th>\n",
       "      <td>SOBNYVR12A8C13558C</td>\n",
       "      <td>Si Vos Querés</td>\n",
       "      <td>De Culo</td>\n",
       "      <td>Yerba Brava</td>\n",
       "      <td>2003</td>\n",
       "    </tr>\n",
       "    <tr>\n",
       "      <th>4</th>\n",
       "      <td>SOHSBXH12A8C13B0DF</td>\n",
       "      <td>Tangle Of Aspens</td>\n",
       "      <td>Rene Ablaze Presents Winter Sessions</td>\n",
       "      <td>Der Mystic</td>\n",
       "      <td>0</td>\n",
       "    </tr>\n",
       "  </tbody>\n",
       "</table>\n",
       "</div>"
      ],
      "text/plain": [
       "              song_id              title  \\\n",
       "0  SOQMMHC12AB0180CB8       Silent Night   \n",
       "1  SOVFVAK12A8C1350D9        Tanssi vaan   \n",
       "2  SOGTUKN12AB017F4F1  No One Could Ever   \n",
       "3  SOBNYVR12A8C13558C      Si Vos Querés   \n",
       "4  SOHSBXH12A8C13B0DF   Tangle Of Aspens   \n",
       "\n",
       "                                release       artist_name  year  \n",
       "0                 Monster Ballads X-Mas  Faster Pussy cat  2003  \n",
       "1                           Karkuteillä  Karkkiautomaatti  1995  \n",
       "2                                Butter    Hudson Mohawke  2006  \n",
       "3                               De Culo       Yerba Brava  2003  \n",
       "4  Rene Ablaze Presents Winter Sessions        Der Mystic     0  "
      ]
     },
     "execution_count": 3,
     "metadata": {},
     "output_type": "execute_result"
    }
   ],
   "source": [
    "songs_df.head()"
   ]
  },
  {
   "cell_type": "code",
   "execution_count": 4,
   "id": "a2c26bad-48b2-4d30-84af-7e473e101f9a",
   "metadata": {},
   "outputs": [
    {
     "data": {
      "text/html": [
       "<div>\n",
       "<style scoped>\n",
       "    .dataframe tbody tr th:only-of-type {\n",
       "        vertical-align: middle;\n",
       "    }\n",
       "\n",
       "    .dataframe tbody tr th {\n",
       "        vertical-align: top;\n",
       "    }\n",
       "\n",
       "    .dataframe thead th {\n",
       "        text-align: right;\n",
       "    }\n",
       "</style>\n",
       "<table border=\"1\" class=\"dataframe\">\n",
       "  <thead>\n",
       "    <tr style=\"text-align: right;\">\n",
       "      <th></th>\n",
       "      <th>user_id</th>\n",
       "      <th>song_id</th>\n",
       "      <th>play_count</th>\n",
       "    </tr>\n",
       "  </thead>\n",
       "  <tbody>\n",
       "    <tr>\n",
       "      <th>0</th>\n",
       "      <td>b80344d063b5ccb3212f76538f3d9e43d87dca9e</td>\n",
       "      <td>SOAKIMP12A8C130995</td>\n",
       "      <td>1</td>\n",
       "    </tr>\n",
       "    <tr>\n",
       "      <th>1</th>\n",
       "      <td>b80344d063b5ccb3212f76538f3d9e43d87dca9e</td>\n",
       "      <td>SOBBMDR12A8C13253B</td>\n",
       "      <td>2</td>\n",
       "    </tr>\n",
       "    <tr>\n",
       "      <th>2</th>\n",
       "      <td>b80344d063b5ccb3212f76538f3d9e43d87dca9e</td>\n",
       "      <td>SOBXHDL12A81C204C0</td>\n",
       "      <td>1</td>\n",
       "    </tr>\n",
       "    <tr>\n",
       "      <th>3</th>\n",
       "      <td>b80344d063b5ccb3212f76538f3d9e43d87dca9e</td>\n",
       "      <td>SOBYHAJ12A6701BF1D</td>\n",
       "      <td>1</td>\n",
       "    </tr>\n",
       "    <tr>\n",
       "      <th>4</th>\n",
       "      <td>b80344d063b5ccb3212f76538f3d9e43d87dca9e</td>\n",
       "      <td>SODACBL12A8C13C273</td>\n",
       "      <td>1</td>\n",
       "    </tr>\n",
       "  </tbody>\n",
       "</table>\n",
       "</div>"
      ],
      "text/plain": [
       "                                    user_id             song_id  play_count\n",
       "0  b80344d063b5ccb3212f76538f3d9e43d87dca9e  SOAKIMP12A8C130995           1\n",
       "1  b80344d063b5ccb3212f76538f3d9e43d87dca9e  SOBBMDR12A8C13253B           2\n",
       "2  b80344d063b5ccb3212f76538f3d9e43d87dca9e  SOBXHDL12A81C204C0           1\n",
       "3  b80344d063b5ccb3212f76538f3d9e43d87dca9e  SOBYHAJ12A6701BF1D           1\n",
       "4  b80344d063b5ccb3212f76538f3d9e43d87dca9e  SODACBL12A8C13C273           1"
      ]
     },
     "execution_count": 4,
     "metadata": {},
     "output_type": "execute_result"
    }
   ],
   "source": [
    "users_df.head()"
   ]
  },
  {
   "cell_type": "markdown",
   "id": "26ca89d7-2acc-45f0-89f2-10b854500308",
   "metadata": {},
   "source": [
    "### Descriptive analysis"
   ]
  },
  {
   "cell_type": "code",
   "execution_count": 5,
   "id": "a2787bd9-b298-4bac-a7d4-c68cd9e3d159",
   "metadata": {},
   "outputs": [
    {
     "name": "stdout",
     "output_type": "stream",
     "text": [
      "The songs data set has 1000000 rows and 5 columns\n",
      "The users data set has 2000000 rows and 3 columns\n"
     ]
    }
   ],
   "source": [
    "print(f'The songs data set has {songs_df.shape[0]} rows and {songs_df.shape[1]} columns')\n",
    "print(f'The users data set has {users_df.shape[0]} rows and {users_df.shape[1]} columns')"
   ]
  },
  {
   "cell_type": "code",
   "execution_count": 6,
   "id": "1014bdef-b208-483f-be70-0439f986ae6a",
   "metadata": {},
   "outputs": [
    {
     "name": "stdout",
     "output_type": "stream",
     "text": [
      "<class 'pandas.core.frame.DataFrame'>\n",
      "RangeIndex: 1000000 entries, 0 to 999999\n",
      "Data columns (total 5 columns):\n",
      " #   Column       Non-Null Count    Dtype \n",
      "---  ------       --------------    ----- \n",
      " 0   song_id      1000000 non-null  object\n",
      " 1   title        999985 non-null   object\n",
      " 2   release      999995 non-null   object\n",
      " 3   artist_name  1000000 non-null  object\n",
      " 4   year         1000000 non-null  int64 \n",
      "dtypes: int64(1), object(4)\n",
      "memory usage: 38.1+ MB\n"
     ]
    }
   ],
   "source": [
    "songs_df.info()"
   ]
  },
  {
   "cell_type": "markdown",
   "id": "2624dac3-6a40-4338-a71c-1ddfe4f23981",
   "metadata": {},
   "source": [
    "The songs df is missing 15 records in \"title\" and 5 in \"release\" - we might be able to find them on the internet - or remove them if they don't appear in the users df.\n",
    "\n",
    "Only 1 column is numerical (year) all others are strings, as expected."
   ]
  },
  {
   "cell_type": "code",
   "execution_count": 7,
   "id": "de4240a1-2f31-4c34-b962-5653c735fed3",
   "metadata": {},
   "outputs": [
    {
     "data": {
      "text/html": [
       "<div>\n",
       "<style scoped>\n",
       "    .dataframe tbody tr th:only-of-type {\n",
       "        vertical-align: middle;\n",
       "    }\n",
       "\n",
       "    .dataframe tbody tr th {\n",
       "        vertical-align: top;\n",
       "    }\n",
       "\n",
       "    .dataframe thead th {\n",
       "        text-align: right;\n",
       "    }\n",
       "</style>\n",
       "<table border=\"1\" class=\"dataframe\">\n",
       "  <thead>\n",
       "    <tr style=\"text-align: right;\">\n",
       "      <th></th>\n",
       "      <th>count</th>\n",
       "      <th>mean</th>\n",
       "      <th>std</th>\n",
       "      <th>min</th>\n",
       "      <th>25%</th>\n",
       "      <th>50%</th>\n",
       "      <th>75%</th>\n",
       "      <th>max</th>\n",
       "    </tr>\n",
       "  </thead>\n",
       "  <tbody>\n",
       "    <tr>\n",
       "      <th>year</th>\n",
       "      <td>1000000.0</td>\n",
       "      <td>1030.325652</td>\n",
       "      <td>998.745002</td>\n",
       "      <td>0.0</td>\n",
       "      <td>0.0</td>\n",
       "      <td>1969.0</td>\n",
       "      <td>2002.0</td>\n",
       "      <td>2011.0</td>\n",
       "    </tr>\n",
       "  </tbody>\n",
       "</table>\n",
       "</div>"
      ],
      "text/plain": [
       "          count         mean         std  min  25%     50%     75%     max\n",
       "year  1000000.0  1030.325652  998.745002  0.0  0.0  1969.0  2002.0  2011.0"
      ]
     },
     "execution_count": 7,
     "metadata": {},
     "output_type": "execute_result"
    }
   ],
   "source": [
    "songs_df.describe().T"
   ]
  },
  {
   "cell_type": "markdown",
   "id": "97431ee9-2d28-4570-bede-4f880682a429",
   "metadata": {},
   "source": [
    "The description of the year column suggests we're missing year info for up to 50% of records (25th percentile is 0). \n",
    "We will replace them with NaN for the time being - until we decide how to handle them later."
   ]
  },
  {
   "cell_type": "code",
   "execution_count": 8,
   "id": "ef2e7d5c-8348-41ff-a626-0e7c0c14e536",
   "metadata": {},
   "outputs": [],
   "source": [
    "songs_df['year'] = songs_df['year'].replace(0, np.nan)"
   ]
  },
  {
   "cell_type": "code",
   "execution_count": 9,
   "id": "acf2e912-279c-4e76-9cf5-f6d38f2dc600",
   "metadata": {},
   "outputs": [
    {
     "name": "stdout",
     "output_type": "stream",
     "text": [
      "<class 'pandas.core.frame.DataFrame'>\n",
      "RangeIndex: 1000000 entries, 0 to 999999\n",
      "Data columns (total 5 columns):\n",
      " #   Column       Non-Null Count    Dtype  \n",
      "---  ------       --------------    -----  \n",
      " 0   song_id      1000000 non-null  object \n",
      " 1   title        999985 non-null   object \n",
      " 2   release      999995 non-null   object \n",
      " 3   artist_name  1000000 non-null  object \n",
      " 4   year         515576 non-null   float64\n",
      "dtypes: float64(1), object(4)\n",
      "memory usage: 38.1+ MB\n"
     ]
    }
   ],
   "source": [
    "songs_df.info()"
   ]
  },
  {
   "cell_type": "markdown",
   "id": "198d4b6c-66bb-4423-b536-6817ee407fe9",
   "metadata": {},
   "source": [
    "This replacement informs us that we're missing the year for ~50% of the data set. We will get to imputation methods shortly."
   ]
  },
  {
   "cell_type": "code",
   "execution_count": 10,
   "id": "df301c3c-6afe-4499-95df-e9da1458778b",
   "metadata": {},
   "outputs": [
    {
     "data": {
      "text/html": [
       "<div>\n",
       "<style scoped>\n",
       "    .dataframe tbody tr th:only-of-type {\n",
       "        vertical-align: middle;\n",
       "    }\n",
       "\n",
       "    .dataframe tbody tr th {\n",
       "        vertical-align: top;\n",
       "    }\n",
       "\n",
       "    .dataframe thead th {\n",
       "        text-align: right;\n",
       "    }\n",
       "</style>\n",
       "<table border=\"1\" class=\"dataframe\">\n",
       "  <thead>\n",
       "    <tr style=\"text-align: right;\">\n",
       "      <th></th>\n",
       "      <th>count</th>\n",
       "      <th>unique</th>\n",
       "      <th>top</th>\n",
       "      <th>freq</th>\n",
       "    </tr>\n",
       "  </thead>\n",
       "  <tbody>\n",
       "    <tr>\n",
       "      <th>song_id</th>\n",
       "      <td>1000000</td>\n",
       "      <td>999056</td>\n",
       "      <td>SOGILMF12AC468A00D</td>\n",
       "      <td>3</td>\n",
       "    </tr>\n",
       "    <tr>\n",
       "      <th>title</th>\n",
       "      <td>999985</td>\n",
       "      <td>702428</td>\n",
       "      <td>Intro</td>\n",
       "      <td>1510</td>\n",
       "    </tr>\n",
       "    <tr>\n",
       "      <th>release</th>\n",
       "      <td>999995</td>\n",
       "      <td>149288</td>\n",
       "      <td>Greatest Hits</td>\n",
       "      <td>2014</td>\n",
       "    </tr>\n",
       "    <tr>\n",
       "      <th>artist_name</th>\n",
       "      <td>1000000</td>\n",
       "      <td>72665</td>\n",
       "      <td>Michael Jackson</td>\n",
       "      <td>194</td>\n",
       "    </tr>\n",
       "  </tbody>\n",
       "</table>\n",
       "</div>"
      ],
      "text/plain": [
       "               count  unique                 top  freq\n",
       "song_id      1000000  999056  SOGILMF12AC468A00D     3\n",
       "title         999985  702428               Intro  1510\n",
       "release       999995  149288       Greatest Hits  2014\n",
       "artist_name  1000000   72665     Michael Jackson   194"
      ]
     },
     "execution_count": 10,
     "metadata": {},
     "output_type": "execute_result"
    }
   ],
   "source": [
    "songs_df.describe(include='object').T"
   ]
  },
  {
   "cell_type": "markdown",
   "id": "cd69a48a-01a1-4f84-9640-6f7c889f9c2d",
   "metadata": {},
   "source": [
    "There are less than 1M unique song_id, suggesting there are duplicates we will want to remove.\n",
    "* Michael Jackson is the most frequent artist in the data set, with 194 songs.\n",
    "* Intro is the most common song title! With 1.5K songs.\n",
    "* Greatest Hits is the most common album name, for 2K songs.\n",
    "\n",
    "Let's remove complete duplicates, and see if it handled all song_id duplicates."
   ]
  },
  {
   "cell_type": "code",
   "execution_count": 11,
   "id": "2120912b-14c3-4c56-961d-8db8a4b723e8",
   "metadata": {},
   "outputs": [
    {
     "data": {
      "text/html": [
       "<div>\n",
       "<style scoped>\n",
       "    .dataframe tbody tr th:only-of-type {\n",
       "        vertical-align: middle;\n",
       "    }\n",
       "\n",
       "    .dataframe tbody tr th {\n",
       "        vertical-align: top;\n",
       "    }\n",
       "\n",
       "    .dataframe thead th {\n",
       "        text-align: right;\n",
       "    }\n",
       "</style>\n",
       "<table border=\"1\" class=\"dataframe\">\n",
       "  <thead>\n",
       "    <tr style=\"text-align: right;\">\n",
       "      <th></th>\n",
       "      <th>count</th>\n",
       "      <th>unique</th>\n",
       "      <th>top</th>\n",
       "      <th>freq</th>\n",
       "    </tr>\n",
       "  </thead>\n",
       "  <tbody>\n",
       "    <tr>\n",
       "      <th>song_id</th>\n",
       "      <td>999502</td>\n",
       "      <td>999056</td>\n",
       "      <td>SOJRFWQ12AB0183582</td>\n",
       "      <td>3</td>\n",
       "    </tr>\n",
       "    <tr>\n",
       "      <th>title</th>\n",
       "      <td>999487</td>\n",
       "      <td>702428</td>\n",
       "      <td>Intro</td>\n",
       "      <td>1510</td>\n",
       "    </tr>\n",
       "    <tr>\n",
       "      <th>release</th>\n",
       "      <td>999497</td>\n",
       "      <td>149288</td>\n",
       "      <td>Greatest Hits</td>\n",
       "      <td>2006</td>\n",
       "    </tr>\n",
       "    <tr>\n",
       "      <th>artist_name</th>\n",
       "      <td>999502</td>\n",
       "      <td>72665</td>\n",
       "      <td>Johnny Cash</td>\n",
       "      <td>193</td>\n",
       "    </tr>\n",
       "  </tbody>\n",
       "</table>\n",
       "</div>"
      ],
      "text/plain": [
       "              count  unique                 top  freq\n",
       "song_id      999502  999056  SOJRFWQ12AB0183582     3\n",
       "title        999487  702428               Intro  1510\n",
       "release      999497  149288       Greatest Hits  2006\n",
       "artist_name  999502   72665         Johnny Cash   193"
      ]
     },
     "execution_count": 11,
     "metadata": {},
     "output_type": "execute_result"
    }
   ],
   "source": [
    "songs_df = songs_df.drop_duplicates()\n",
    "songs_df.describe(include='object').T"
   ]
  },
  {
   "cell_type": "markdown",
   "id": "606055e4-f6cc-441d-96fa-3c4ce60d8282",
   "metadata": {},
   "source": [
    "We still have duplicate song_id that aren't duplicates with other records. Also, Johnny Cash now is the most common artist (so there were likely a few MJ duplicates). "
   ]
  },
  {
   "cell_type": "code",
   "execution_count": 12,
   "id": "1627de3d-0f19-49be-959f-e7c34a6ed0dd",
   "metadata": {},
   "outputs": [
    {
     "name": "stderr",
     "output_type": "stream",
     "text": [
      "<ipython-input-12-d2b9285203d4>:1: UserWarning: Boolean Series key will be reindexed to match DataFrame index.\n",
      "  songs_df[songs_df.sort_values('song_id').sort_values('year').duplicated(subset='song_id', keep='first')]\n"
     ]
    },
    {
     "data": {
      "text/html": [
       "<div>\n",
       "<style scoped>\n",
       "    .dataframe tbody tr th:only-of-type {\n",
       "        vertical-align: middle;\n",
       "    }\n",
       "\n",
       "    .dataframe tbody tr th {\n",
       "        vertical-align: top;\n",
       "    }\n",
       "\n",
       "    .dataframe thead th {\n",
       "        text-align: right;\n",
       "    }\n",
       "</style>\n",
       "<table border=\"1\" class=\"dataframe\">\n",
       "  <thead>\n",
       "    <tr style=\"text-align: right;\">\n",
       "      <th></th>\n",
       "      <th>song_id</th>\n",
       "      <th>title</th>\n",
       "      <th>release</th>\n",
       "      <th>artist_name</th>\n",
       "      <th>year</th>\n",
       "    </tr>\n",
       "  </thead>\n",
       "  <tbody>\n",
       "    <tr>\n",
       "      <th>6063</th>\n",
       "      <td>SOCXXKA12A58A8059A</td>\n",
       "      <td>Mr Slow Flow featuring PMD (Remix)</td>\n",
       "      <td>The Release Party</td>\n",
       "      <td>Dilated Peoples</td>\n",
       "      <td>2007.0</td>\n",
       "    </tr>\n",
       "    <tr>\n",
       "      <th>9542</th>\n",
       "      <td>SOPRYHK12A8AE47858</td>\n",
       "      <td>Bad Woman</td>\n",
       "      <td>Teddy Picker</td>\n",
       "      <td>Arctic Monkeys</td>\n",
       "      <td>2007.0</td>\n",
       "    </tr>\n",
       "    <tr>\n",
       "      <th>10199</th>\n",
       "      <td>SOPFQXE12A8C13C72B</td>\n",
       "      <td>Hole In The World</td>\n",
       "      <td>Long Road Out Of Eden</td>\n",
       "      <td>Eagles</td>\n",
       "      <td>2003.0</td>\n",
       "    </tr>\n",
       "    <tr>\n",
       "      <th>10708</th>\n",
       "      <td>SOULTKQ12AB018A183</td>\n",
       "      <td>Nothin' On You [feat. Bruno Mars] (Album Version)</td>\n",
       "      <td>Nothin' On You [feat. Bruno Mars]</td>\n",
       "      <td>B.o.B</td>\n",
       "      <td>NaN</td>\n",
       "    </tr>\n",
       "    <tr>\n",
       "      <th>11139</th>\n",
       "      <td>SOVDKJS12AB017DBCF</td>\n",
       "      <td>Clumsy</td>\n",
       "      <td>The Dutchess Deluxe EP</td>\n",
       "      <td>Fergie / Soulja Boy Tell`em</td>\n",
       "      <td>2008.0</td>\n",
       "    </tr>\n",
       "    <tr>\n",
       "      <th>...</th>\n",
       "      <td>...</td>\n",
       "      <td>...</td>\n",
       "      <td>...</td>\n",
       "      <td>...</td>\n",
       "      <td>...</td>\n",
       "    </tr>\n",
       "    <tr>\n",
       "      <th>986100</th>\n",
       "      <td>SOZIMLB12AF72AD1CD</td>\n",
       "      <td>Innocence</td>\n",
       "      <td>The Best Damn Thing/Under My Skin</td>\n",
       "      <td>Avril Lavigne</td>\n",
       "      <td>2007.0</td>\n",
       "    </tr>\n",
       "    <tr>\n",
       "      <th>986334</th>\n",
       "      <td>SORWESM12A8C138FE6</td>\n",
       "      <td>Marche Des Célibataires</td>\n",
       "      <td>Les Plus Grands Moments De L'Accordéon Vol.1 /...</td>\n",
       "      <td>Jean Segurel</td>\n",
       "      <td>NaN</td>\n",
       "    </tr>\n",
       "    <tr>\n",
       "      <th>987707</th>\n",
       "      <td>SOXJBVH12A8C1416CF</td>\n",
       "      <td>Diamonds From Sierra Leone</td>\n",
       "      <td>Diamonds From Sierra Leone</td>\n",
       "      <td>Kanye West</td>\n",
       "      <td>2005.0</td>\n",
       "    </tr>\n",
       "    <tr>\n",
       "      <th>991484</th>\n",
       "      <td>SOKISQM12AB0184A3B</td>\n",
       "      <td>Bring Me To Life (Live in Europe)</td>\n",
       "      <td>Anywhere But Home (Live)</td>\n",
       "      <td>Evanescence</td>\n",
       "      <td>NaN</td>\n",
       "    </tr>\n",
       "    <tr>\n",
       "      <th>993467</th>\n",
       "      <td>SOPOGQY12A8AE46210</td>\n",
       "      <td>Love For All Seasons</td>\n",
       "      <td>Christina Aguilera</td>\n",
       "      <td>Christina Aguilera</td>\n",
       "      <td>1999.0</td>\n",
       "    </tr>\n",
       "  </tbody>\n",
       "</table>\n",
       "<p>446 rows × 5 columns</p>\n",
       "</div>"
      ],
      "text/plain": [
       "                   song_id                                              title  \\\n",
       "6063    SOCXXKA12A58A8059A                 Mr Slow Flow featuring PMD (Remix)   \n",
       "9542    SOPRYHK12A8AE47858                                          Bad Woman   \n",
       "10199   SOPFQXE12A8C13C72B                                  Hole In The World   \n",
       "10708   SOULTKQ12AB018A183  Nothin' On You [feat. Bruno Mars] (Album Version)   \n",
       "11139   SOVDKJS12AB017DBCF                                             Clumsy   \n",
       "...                    ...                                                ...   \n",
       "986100  SOZIMLB12AF72AD1CD                                          Innocence   \n",
       "986334  SORWESM12A8C138FE6                            Marche Des Célibataires   \n",
       "987707  SOXJBVH12A8C1416CF                         Diamonds From Sierra Leone   \n",
       "991484  SOKISQM12AB0184A3B                  Bring Me To Life (Live in Europe)   \n",
       "993467  SOPOGQY12A8AE46210                               Love For All Seasons   \n",
       "\n",
       "                                                  release  \\\n",
       "6063                                    The Release Party   \n",
       "9542                                         Teddy Picker   \n",
       "10199                               Long Road Out Of Eden   \n",
       "10708                   Nothin' On You [feat. Bruno Mars]   \n",
       "11139                              The Dutchess Deluxe EP   \n",
       "...                                                   ...   \n",
       "986100                  The Best Damn Thing/Under My Skin   \n",
       "986334  Les Plus Grands Moments De L'Accordéon Vol.1 /...   \n",
       "987707                         Diamonds From Sierra Leone   \n",
       "991484                           Anywhere But Home (Live)   \n",
       "993467                                 Christina Aguilera   \n",
       "\n",
       "                        artist_name    year  \n",
       "6063                Dilated Peoples  2007.0  \n",
       "9542                 Arctic Monkeys  2007.0  \n",
       "10199                        Eagles  2003.0  \n",
       "10708                         B.o.B     NaN  \n",
       "11139   Fergie / Soulja Boy Tell`em  2008.0  \n",
       "...                             ...     ...  \n",
       "986100                Avril Lavigne  2007.0  \n",
       "986334                 Jean Segurel     NaN  \n",
       "987707                   Kanye West  2005.0  \n",
       "991484                  Evanescence     NaN  \n",
       "993467           Christina Aguilera  1999.0  \n",
       "\n",
       "[446 rows x 5 columns]"
      ]
     },
     "execution_count": 12,
     "metadata": {},
     "output_type": "execute_result"
    }
   ],
   "source": [
    "songs_df[songs_df.sort_values('song_id').sort_values('year').duplicated(subset='song_id', keep='first')]"
   ]
  },
  {
   "cell_type": "markdown",
   "id": "124c3cc0-5385-4ecf-a1d2-54f337f56ce3",
   "metadata": {},
   "source": [
    "It looks like a key difference is on the album name. In some cases, a duplicate might be missing the year as well. We will handle these duplicates in the following manner:\n",
    "* If duplicates all have year info, keep the first row\n",
    "* Otherwise, keep the one that has year info.\n",
    "\n",
    "This consists in sorting the df based on song_id and year (NaN is smaller than a number), identifying duplicates by keeping first, and dropping these indices."
   ]
  },
  {
   "cell_type": "code",
   "execution_count": 13,
   "id": "7c285645-4a63-4352-bf2c-df9565604d13",
   "metadata": {},
   "outputs": [
    {
     "name": "stderr",
     "output_type": "stream",
     "text": [
      "<ipython-input-13-0fb49e99bf0c>:1: UserWarning: Boolean Series key will be reindexed to match DataFrame index.\n",
      "  duplicates = songs_df[songs_df.sort_values('song_id').sort_values('year').duplicated(subset='song_id', keep='first')]\n"
     ]
    },
    {
     "data": {
      "text/html": [
       "<div>\n",
       "<style scoped>\n",
       "    .dataframe tbody tr th:only-of-type {\n",
       "        vertical-align: middle;\n",
       "    }\n",
       "\n",
       "    .dataframe tbody tr th {\n",
       "        vertical-align: top;\n",
       "    }\n",
       "\n",
       "    .dataframe thead th {\n",
       "        text-align: right;\n",
       "    }\n",
       "</style>\n",
       "<table border=\"1\" class=\"dataframe\">\n",
       "  <thead>\n",
       "    <tr style=\"text-align: right;\">\n",
       "      <th></th>\n",
       "      <th>count</th>\n",
       "      <th>unique</th>\n",
       "      <th>top</th>\n",
       "      <th>freq</th>\n",
       "    </tr>\n",
       "  </thead>\n",
       "  <tbody>\n",
       "    <tr>\n",
       "      <th>song_id</th>\n",
       "      <td>999056</td>\n",
       "      <td>999056</td>\n",
       "      <td>SOJQOCV12AB0183CEA</td>\n",
       "      <td>1</td>\n",
       "    </tr>\n",
       "    <tr>\n",
       "      <th>title</th>\n",
       "      <td>999041</td>\n",
       "      <td>702339</td>\n",
       "      <td>Intro</td>\n",
       "      <td>1510</td>\n",
       "    </tr>\n",
       "    <tr>\n",
       "      <th>release</th>\n",
       "      <td>999051</td>\n",
       "      <td>149203</td>\n",
       "      <td>Greatest Hits</td>\n",
       "      <td>2002</td>\n",
       "    </tr>\n",
       "    <tr>\n",
       "      <th>artist_name</th>\n",
       "      <td>999056</td>\n",
       "      <td>72650</td>\n",
       "      <td>Johnny Cash</td>\n",
       "      <td>191</td>\n",
       "    </tr>\n",
       "  </tbody>\n",
       "</table>\n",
       "</div>"
      ],
      "text/plain": [
       "              count  unique                 top  freq\n",
       "song_id      999056  999056  SOJQOCV12AB0183CEA     1\n",
       "title        999041  702339               Intro  1510\n",
       "release      999051  149203       Greatest Hits  2002\n",
       "artist_name  999056   72650         Johnny Cash   191"
      ]
     },
     "execution_count": 13,
     "metadata": {},
     "output_type": "execute_result"
    }
   ],
   "source": [
    "duplicates = songs_df[songs_df.sort_values('song_id').sort_values('year').duplicated(subset='song_id', keep='first')]\n",
    "songs_df = songs_df.drop(duplicates.index)\n",
    "songs_df.describe(include='object').T"
   ]
  },
  {
   "cell_type": "code",
   "execution_count": 14,
   "id": "d8dbf428-f578-4c15-a646-e2a3a6a4d685",
   "metadata": {},
   "outputs": [],
   "source": [
    "# Save song_data without duplicates\n",
    "songs_df.to_csv('../../dataset/song_data_no_dupes.csv')"
   ]
  },
  {
   "cell_type": "markdown",
   "id": "0f7449e4-4a5f-41c5-b619-f69b2e2ae278",
   "metadata": {},
   "source": [
    "We've handled these duplicates, let's explore the users df now."
   ]
  },
  {
   "cell_type": "code",
   "execution_count": 15,
   "id": "df6c3668-694e-4255-bbdc-f9d734f61da9",
   "metadata": {},
   "outputs": [
    {
     "name": "stdout",
     "output_type": "stream",
     "text": [
      "<class 'pandas.core.frame.DataFrame'>\n",
      "RangeIndex: 2000000 entries, 0 to 1999999\n",
      "Data columns (total 3 columns):\n",
      " #   Column      Dtype \n",
      "---  ------      ----- \n",
      " 0   user_id     object\n",
      " 1   song_id     object\n",
      " 2   play_count  int64 \n",
      "dtypes: int64(1), object(2)\n",
      "memory usage: 45.8+ MB\n"
     ]
    }
   ],
   "source": [
    "users_df.info()"
   ]
  },
  {
   "cell_type": "code",
   "execution_count": 16,
   "id": "eb127044-56eb-4837-9483-622788f98573",
   "metadata": {},
   "outputs": [
    {
     "name": "stdout",
     "output_type": "stream",
     "text": [
      "user_id is missing 0 records\n",
      "song_id is missing 0 records\n",
      "play_count is missing 0 records\n"
     ]
    }
   ],
   "source": [
    "for col in ['user_id', 'song_id', 'play_count']:\n",
    "    print(f'{col} is missing {sum(users_df[col].isnull())} records')"
   ]
  },
  {
   "cell_type": "markdown",
   "id": "b51fbf4c-ea6a-4270-bcbf-3ee268d845e9",
   "metadata": {},
   "source": [
    "The users df is not missing any records. Only 1 column is numerical (count) all others are strings, as expected."
   ]
  },
  {
   "cell_type": "code",
   "execution_count": 17,
   "id": "21e13e2e-8b20-44ed-972a-8346927ba1de",
   "metadata": {},
   "outputs": [
    {
     "data": {
      "text/plain": [
       "(0, 3)"
      ]
     },
     "metadata": {},
     "output_type": "display_data"
    },
    {
     "data": {
      "text/plain": [
       "(0, 3)"
      ]
     },
     "metadata": {},
     "output_type": "display_data"
    }
   ],
   "source": [
    "display(users_df[users_df.duplicated()].shape)\n",
    "display(users_df[users_df.duplicated(subset=['song_id', 'user_id'])].shape)"
   ]
  },
  {
   "cell_type": "markdown",
   "id": "08827a5d-98aa-4bf4-9967-96702508106b",
   "metadata": {},
   "source": [
    "There are no duplicates in the dataframe."
   ]
  },
  {
   "cell_type": "code",
   "execution_count": 18,
   "id": "7f7e8d7d-c98f-448a-be17-3390b75936c6",
   "metadata": {},
   "outputs": [
    {
     "data": {
      "text/html": [
       "<div>\n",
       "<style scoped>\n",
       "    .dataframe tbody tr th:only-of-type {\n",
       "        vertical-align: middle;\n",
       "    }\n",
       "\n",
       "    .dataframe tbody tr th {\n",
       "        vertical-align: top;\n",
       "    }\n",
       "\n",
       "    .dataframe thead th {\n",
       "        text-align: right;\n",
       "    }\n",
       "</style>\n",
       "<table border=\"1\" class=\"dataframe\">\n",
       "  <thead>\n",
       "    <tr style=\"text-align: right;\">\n",
       "      <th></th>\n",
       "      <th>count</th>\n",
       "      <th>mean</th>\n",
       "      <th>std</th>\n",
       "      <th>min</th>\n",
       "      <th>25%</th>\n",
       "      <th>50%</th>\n",
       "      <th>75%</th>\n",
       "      <th>max</th>\n",
       "    </tr>\n",
       "  </thead>\n",
       "  <tbody>\n",
       "    <tr>\n",
       "      <th>play_count</th>\n",
       "      <td>2000000.0</td>\n",
       "      <td>3.045485</td>\n",
       "      <td>6.57972</td>\n",
       "      <td>1.0</td>\n",
       "      <td>1.0</td>\n",
       "      <td>1.0</td>\n",
       "      <td>3.0</td>\n",
       "      <td>2213.0</td>\n",
       "    </tr>\n",
       "  </tbody>\n",
       "</table>\n",
       "</div>"
      ],
      "text/plain": [
       "                count      mean      std  min  25%  50%  75%     max\n",
       "play_count  2000000.0  3.045485  6.57972  1.0  1.0  1.0  3.0  2213.0"
      ]
     },
     "execution_count": 18,
     "metadata": {},
     "output_type": "execute_result"
    }
   ],
   "source": [
    "users_df.describe().T"
   ]
  },
  {
   "cell_type": "markdown",
   "id": "a09a07fc-8d80-4d46-9cd1-13b3e7b40bdd",
   "metadata": {},
   "source": [
    "count is the only numerical variable. On average, users listen to a song 3 times, with a median of 1 - suggesting a skewed data set.\n",
    "\n",
    "Most users have a play count under 3, but there is a very wide range with a max at 2.2K for a single song! This means there might be outliers, but we'll only know once we inspect."
   ]
  },
  {
   "cell_type": "code",
   "execution_count": 19,
   "id": "631afbaa-e09d-4b2e-a6f6-2c6fd0f78ebb",
   "metadata": {},
   "outputs": [
    {
     "data": {
      "text/html": [
       "<div>\n",
       "<style scoped>\n",
       "    .dataframe tbody tr th:only-of-type {\n",
       "        vertical-align: middle;\n",
       "    }\n",
       "\n",
       "    .dataframe tbody tr th {\n",
       "        vertical-align: top;\n",
       "    }\n",
       "\n",
       "    .dataframe thead th {\n",
       "        text-align: right;\n",
       "    }\n",
       "</style>\n",
       "<table border=\"1\" class=\"dataframe\">\n",
       "  <thead>\n",
       "    <tr style=\"text-align: right;\">\n",
       "      <th></th>\n",
       "      <th>count</th>\n",
       "      <th>unique</th>\n",
       "      <th>top</th>\n",
       "      <th>freq</th>\n",
       "    </tr>\n",
       "  </thead>\n",
       "  <tbody>\n",
       "    <tr>\n",
       "      <th>user_id</th>\n",
       "      <td>2000000</td>\n",
       "      <td>76353</td>\n",
       "      <td>6d625c6557df84b60d90426c0116138b617b9449</td>\n",
       "      <td>711</td>\n",
       "    </tr>\n",
       "    <tr>\n",
       "      <th>song_id</th>\n",
       "      <td>2000000</td>\n",
       "      <td>10000</td>\n",
       "      <td>SOFRQTD12A81C233C0</td>\n",
       "      <td>8277</td>\n",
       "    </tr>\n",
       "  </tbody>\n",
       "</table>\n",
       "</div>"
      ],
      "text/plain": [
       "           count unique                                       top  freq\n",
       "user_id  2000000  76353  6d625c6557df84b60d90426c0116138b617b9449   711\n",
       "song_id  2000000  10000                        SOFRQTD12A81C233C0  8277"
      ]
     },
     "execution_count": 19,
     "metadata": {},
     "output_type": "execute_result"
    }
   ],
   "source": [
    "users_df.describe(include='object').T"
   ]
  },
  {
   "cell_type": "markdown",
   "id": "4cda28e1-e88c-4f55-a466-5b835ed3a7ce",
   "metadata": {},
   "source": [
    "We see we have 76K unique users in the data set, with the most prolific one appearing 711 times (i.e. they listened to 711 distinct songs).\n",
    "We also have 1M unique songs listened to, which is the same as what's available in the song_data df. \n",
    "The most popular song has been listened to by 8.3K users, or slightly more than 10% of users.\n",
    "\n",
    "The count_data df is clean and does not contain duplicates. \n",
    "\n",
    "### Missing data\n",
    "We're missing year, title, and some other data in the songs df. \n",
    "\n",
    "For **year** we'll see how the distribution of missing data looks like. For example, if most albums have at least 1 song with year data, we can impute for the rest of the album.\n",
    "\n",
    "For **song_title** and **release** we'll have to research online, which is doable since we're only missing a handful\n",
    "\n",
    "#### Year"
   ]
  },
  {
   "cell_type": "code",
   "execution_count": 20,
   "id": "4c6a99db-fb19-4fea-bd47-91012ccdb770",
   "metadata": {},
   "outputs": [
    {
     "name": "stderr",
     "output_type": "stream",
     "text": [
      "<ipython-input-20-1ff257f23842>:3: SettingWithCopyWarning: \n",
      "A value is trying to be set on a copy of a slice from a DataFrame.\n",
      "Try using .loc[row_indexer,col_indexer] = value instead\n",
      "\n",
      "See the caveats in the documentation: https://pandas.pydata.org/pandas-docs/stable/user_guide/indexing.html#returning-a-view-versus-a-copy\n",
      "  songs_df_nan['artist_release'] = songs_df_nan['artist_name'] + ' - ' + songs_df_nan['release']\n"
     ]
    }
   ],
   "source": [
    "songs_df_nan = songs_df[songs_df['year'].isnull()]\n",
    "# Create an artist||album key to group by on and have just 1 index\n",
    "songs_df_nan['artist_release'] = songs_df_nan['artist_name'] + ' - ' + songs_df_nan['release']\n",
    "songs_df['artist_release'] = songs_df['artist_name'] + ' - ' + songs_df['release']\n",
    "\n",
    "# Group by album + artist key\n",
    "album_null_year = songs_df_nan.groupby('artist_release').count()\n",
    "albums = songs_df.groupby('artist_release').count()\n"
   ]
  },
  {
   "cell_type": "code",
   "execution_count": 21,
   "id": "a8c913f4-7b80-4cec-ade6-c73190a10a6d",
   "metadata": {},
   "outputs": [],
   "source": [
    "# Merge the grouped DFs together and create a % null columns\n",
    "albums = albums[['song_id']].merge(album_null_year[['song_id']], left_index=True, right_index=True, suffixes=['_total', '_null'])\n",
    "albums['pct_null'] = 100 * albums['song_id_null'] / albums['song_id_total']"
   ]
  },
  {
   "cell_type": "code",
   "execution_count": 22,
   "id": "c712e66d-6333-451a-adf3-612cbef42f2c",
   "metadata": {},
   "outputs": [],
   "source": [
    "albums['pct_null_bucket'] = albums['pct_null'].apply(lambda x: 'All Null' if x >= 100 else 'None null' if x <= 0 else 'Some null')"
   ]
  },
  {
   "cell_type": "code",
   "execution_count": 23,
   "id": "b7bd7652-c5f0-4619-ac8f-2ccba7da0544",
   "metadata": {},
   "outputs": [
    {
     "data": {
      "image/png": "[encoded data removed]",
      "text/plain": [
       "<Figure size 1080x432 with 1 Axes>"
      ]
     },
     "metadata": {},
     "output_type": "display_data"
    }
   ],
   "source": [
    "# Here we care about artist_release that have < 100% null to impute the release year\n",
    "plt.figure(figsize=(15,6))\n",
    "sns.histplot(data=albums, x='pct_null_bucket', stat='probability')\n",
    "plt.title('Distribution of Null Release year by Album/Artist')\n",
    "plt.xlabel('% of Songs in album with null Year for the artist')\n",
    "plt.ylabel('# of Artist / Album Combinations')\n",
    "plt.show()"
   ]
  },
  {
   "cell_type": "markdown",
   "id": "b00aef72-5aa0-4b37-b9b7-0a8177bf59be",
   "metadata": {},
   "source": [
    "The vast majority (80%) of artist / album combinations are missing the release year for the album.\n",
    "Therefore, we will drop the column, since it would be too difficult and inacurate to impute."
   ]
  },
  {
   "cell_type": "code",
   "execution_count": 24,
   "id": "8cff37dd-6009-48d4-ad67-5a7183d9a914",
   "metadata": {},
   "outputs": [],
   "source": [
    "songs_df.drop(columns=['year', 'artist_release'], inplace=True)\n",
    "\n",
    "# save to csv\n",
    "songs_df.to_csv('../../dataset/song_data_clean.csv')"
   ]
  },
  {
   "cell_type": "markdown",
   "id": "83f3c491-a3a3-4e10-8cb2-46094f0df3c3",
   "metadata": {},
   "source": [
    "#### title and release"
   ]
  },
  {
   "cell_type": "code",
   "execution_count": 25,
   "id": "73828c35-251a-48ad-a21e-6e005e7b7136",
   "metadata": {},
   "outputs": [
    {
     "name": "stdout",
     "output_type": "stream",
     "text": [
      "We're missing 15 song titles and 5 album names.\n"
     ]
    }
   ],
   "source": [
    "print(f\"We're missing {songs_df[songs_df['title'].isnull()].shape[0]} song titles and {songs_df[songs_df['release'].isnull()].shape[0]} album names.\")"
   ]
  },
  {
   "cell_type": "code",
   "execution_count": 26,
   "id": "cd441020-98b4-4744-9b34-169df8f9bbb3",
   "metadata": {},
   "outputs": [],
   "source": [
    "null_titles = songs_df[songs_df['title'].isnull()]\n",
    "null_albums = songs_df[songs_df['release'].isnull()]"
   ]
  },
  {
   "cell_type": "markdown",
   "id": "9e96ea2e-a18d-4eab-93eb-b4486eb18eaf",
   "metadata": {},
   "source": [
    "Before deciding whether to search for these online, let's make sure they have a play count. If they don't have a play count we might not care."
   ]
  },
  {
   "cell_type": "code",
   "execution_count": 27,
   "id": "0cc31c28-8624-4447-bdf2-329b88fa9ae0",
   "metadata": {},
   "outputs": [
    {
     "data": {
      "text/html": [
       "<div>\n",
       "<style scoped>\n",
       "    .dataframe tbody tr th:only-of-type {\n",
       "        vertical-align: middle;\n",
       "    }\n",
       "\n",
       "    .dataframe tbody tr th {\n",
       "        vertical-align: top;\n",
       "    }\n",
       "\n",
       "    .dataframe thead th {\n",
       "        text-align: right;\n",
       "    }\n",
       "</style>\n",
       "<table border=\"1\" class=\"dataframe\">\n",
       "  <thead>\n",
       "    <tr style=\"text-align: right;\">\n",
       "      <th></th>\n",
       "      <th>user_id</th>\n",
       "      <th>song_id</th>\n",
       "      <th>play_count</th>\n",
       "    </tr>\n",
       "  </thead>\n",
       "  <tbody>\n",
       "  </tbody>\n",
       "</table>\n",
       "</div>"
      ],
      "text/plain": [
       "Empty DataFrame\n",
       "Columns: [user_id, song_id, play_count]\n",
       "Index: []"
      ]
     },
     "execution_count": 27,
     "metadata": {},
     "output_type": "execute_result"
    }
   ],
   "source": [
    "users_df[users_df['song_id'].isin(list(null_titles['song_id']))].head()"
   ]
  },
  {
   "cell_type": "markdown",
   "id": "308db675-7744-4f90-9a23-e382652fb2f6",
   "metadata": {},
   "source": [
    "These songs with missing titles do not appear in any user's listening history."
   ]
  },
  {
   "cell_type": "code",
   "execution_count": 28,
   "id": "fec55d37-f84f-4a33-b71a-35e8fd36257d",
   "metadata": {},
   "outputs": [
    {
     "data": {
      "text/html": [
       "<div>\n",
       "<style scoped>\n",
       "    .dataframe tbody tr th:only-of-type {\n",
       "        vertical-align: middle;\n",
       "    }\n",
       "\n",
       "    .dataframe tbody tr th {\n",
       "        vertical-align: top;\n",
       "    }\n",
       "\n",
       "    .dataframe thead th {\n",
       "        text-align: right;\n",
       "    }\n",
       "</style>\n",
       "<table border=\"1\" class=\"dataframe\">\n",
       "  <thead>\n",
       "    <tr style=\"text-align: right;\">\n",
       "      <th></th>\n",
       "      <th>user_id</th>\n",
       "      <th>song_id</th>\n",
       "      <th>play_count</th>\n",
       "    </tr>\n",
       "  </thead>\n",
       "  <tbody>\n",
       "  </tbody>\n",
       "</table>\n",
       "</div>"
      ],
      "text/plain": [
       "Empty DataFrame\n",
       "Columns: [user_id, song_id, play_count]\n",
       "Index: []"
      ]
     },
     "execution_count": 28,
     "metadata": {},
     "output_type": "execute_result"
    }
   ],
   "source": [
    "users_df[users_df['song_id'].isin(list(null_albums['song_id']))].head()"
   ]
  },
  {
   "cell_type": "markdown",
   "id": "9d3ea918-0ba3-43c4-a5b2-ed803ca23e86",
   "metadata": {},
   "source": [
    "These songs with missing albums do not appear in any user's listening history.\n",
    "However, searching quickly on Spotify reveals the name of the album is \"n/a\" so I'll just replace the values."
   ]
  },
  {
   "cell_type": "code",
   "execution_count": 29,
   "id": "4be86cd5-389d-4d9b-ba00-d7b5832e6605",
   "metadata": {},
   "outputs": [
    {
     "data": {
      "text/html": [
       "<div>\n",
       "<style scoped>\n",
       "    .dataframe tbody tr th:only-of-type {\n",
       "        vertical-align: middle;\n",
       "    }\n",
       "\n",
       "    .dataframe tbody tr th {\n",
       "        vertical-align: top;\n",
       "    }\n",
       "\n",
       "    .dataframe thead th {\n",
       "        text-align: right;\n",
       "    }\n",
       "</style>\n",
       "<table border=\"1\" class=\"dataframe\">\n",
       "  <thead>\n",
       "    <tr style=\"text-align: right;\">\n",
       "      <th></th>\n",
       "      <th>song_id</th>\n",
       "      <th>title</th>\n",
       "      <th>release</th>\n",
       "      <th>artist_name</th>\n",
       "    </tr>\n",
       "  </thead>\n",
       "  <tbody>\n",
       "    <tr>\n",
       "      <th>138011</th>\n",
       "      <td>SOOBGAQ12A6D4F6762</td>\n",
       "      <td>Solitude</td>\n",
       "      <td>n/a</td>\n",
       "      <td>Metro</td>\n",
       "    </tr>\n",
       "    <tr>\n",
       "      <th>197822</th>\n",
       "      <td>SOGFJER12A6D4F675F</td>\n",
       "      <td>All The Beautiful People</td>\n",
       "      <td>n/a</td>\n",
       "      <td>Metro</td>\n",
       "    </tr>\n",
       "    <tr>\n",
       "      <th>223019</th>\n",
       "      <td>SOAFJBH12A6D4F6765</td>\n",
       "      <td>Down The Aisles</td>\n",
       "      <td>n/a</td>\n",
       "      <td>Metro</td>\n",
       "    </tr>\n",
       "    <tr>\n",
       "      <th>693232</th>\n",
       "      <td>SOCKQGJ12A6D4F6768</td>\n",
       "      <td>Provincial</td>\n",
       "      <td>n/a</td>\n",
       "      <td>Metro</td>\n",
       "    </tr>\n",
       "    <tr>\n",
       "      <th>841107</th>\n",
       "      <td>SOSQKYC12A6D4F6763</td>\n",
       "      <td>Middlemen</td>\n",
       "      <td>n/a</td>\n",
       "      <td>Metro</td>\n",
       "    </tr>\n",
       "  </tbody>\n",
       "</table>\n",
       "</div>"
      ],
      "text/plain": [
       "                   song_id                     title release artist_name\n",
       "138011  SOOBGAQ12A6D4F6762                  Solitude     n/a       Metro\n",
       "197822  SOGFJER12A6D4F675F  All The Beautiful People     n/a       Metro\n",
       "223019  SOAFJBH12A6D4F6765           Down The Aisles     n/a       Metro\n",
       "693232  SOCKQGJ12A6D4F6768                Provincial     n/a       Metro\n",
       "841107  SOSQKYC12A6D4F6763                 Middlemen     n/a       Metro"
      ]
     },
     "execution_count": 29,
     "metadata": {},
     "output_type": "execute_result"
    }
   ],
   "source": [
    "new_vals = songs_df.loc[null_albums.index]\n",
    "new_vals['release'].fillna('n/a', inplace=True)\n",
    "songs_df.loc[null_albums.index] = new_vals\n",
    "songs_df.loc[null_albums.index]"
   ]
  },
  {
   "cell_type": "code",
   "execution_count": 30,
   "id": "2fb452ea-4472-416b-83cb-acf71c10acde",
   "metadata": {},
   "outputs": [],
   "source": [
    "# Save the clean csv, which we'll use in analysis\n",
    "songs_df.to_csv('../../dataset/song_data_clean.csv')"
   ]
  },
  {
   "cell_type": "markdown",
   "id": "37fde515-26c2-4cd5-b892-6e0f536ce174",
   "metadata": {},
   "source": [
    "## Conclusion\n",
    "In this notebook, we explored what data we had at hand. We noticed we were **missing some values** for year, title, and release in the songs_df.\n",
    "* We decided to **drop** the year column, as it was missing too much data and we couldn't do clean imputation\n",
    "* We **replaced** the missing release name by looking on Spotify for the name of the album\n",
    "* We **didn't replace** the missing titles because I wasn't sure how to look for them on Spotify. In addition, these songs do not appear in the listening history of any user\n",
    "\n",
    "We also identified there were duplicates in songs_df, which we dropped.\n",
    "\n",
    "The users_df was not missing any data, nor had duplicates, so we didn't do any changes.\n",
    "\n",
    "Finally, we saved the pre-processed data set for songs_data under song_data_clean.csv.\n",
    "\n",
    "We will now move to a new notebook for EDA."
   ]
  },
  {
   "cell_type": "code",
   "execution_count": null,
   "id": "53becafc-79a5-4d31-b633-63305554ecc2",
   "metadata": {},
   "outputs": [],
   "source": []
  }
 ],
 "metadata": {
  "kernelspec": {
   "display_name": "Python 3",
   "language": "python",
   "name": "python3"
  },
  "language_info": {
   "codemirror_mode": {
    "name": "ipython",
    "version": 3
   },
   "file_extension": ".py",
   "mimetype": "text/x-python",
   "name": "python",
   "nbconvert_exporter": "python",
   "pygments_lexer": "ipython3",
   "version": "3.8.8"
  }
 },
 "nbformat": 4,
 "nbformat_minor": 5
}
