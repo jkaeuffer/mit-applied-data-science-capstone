{
 "cells": [
  {
   "cell_type": "code",
   "execution_count": 1,
   "id": "db76062d-f230-4ef4-800e-843d14edaf63",
   "metadata": {},
   "outputs": [],
   "source": [
    "SONGS_PATH = '../../dataset/song_data_clean.csv'\n",
    "USERS_PATH = '../../dataset/count_data.csv'"
   ]
  },
  {
   "cell_type": "code",
   "execution_count": 2,
   "id": "52046e40-7b0b-400b-8491-db2b552ba631",
   "metadata": {},
   "outputs": [],
   "source": [
    "import pandas as pd\n",
    "import numpy as np\n",
    "import matplotlib.pyplot as plt\n",
    "import seaborn as sns\n",
    "plt.style.use('ggplot')"
   ]
  },
  {
   "cell_type": "markdown",
   "id": "f46bad22-1181-4bba-a2ba-69b1e9e23dfe",
   "metadata": {},
   "source": [
    "# Description\n",
    "In a previous notebook we pre-processed and cleaned the data from the EchoNest project that we'll use in our recommendation.\n",
    "\n",
    "In this notebook, we will proceed to Exploratory Data Analysis to identify patterns and formulate hypotheses, which we'll use to determine how to build recommendations.\n",
    "\n",
    "## Objective\n",
    "Identify patterns and hypothesis in the data provided.\n",
    "\n",
    "## Process\n",
    "We will start with univariate analysis of each variable. \n",
    "Then, we will formulate questions before moving further, to refine the objective of this analysis.\n",
    "Finally, we will describe conclusions reached.\n",
    "\n",
    "#### Import datasets"
   ]
  },
  {
   "cell_type": "code",
   "execution_count": 4,
   "id": "80998e0a-af1b-43e1-9d48-c9c5b6060aa5",
   "metadata": {},
   "outputs": [],
   "source": [
    "songs_df = pd.read_csv(SONGS_PATH)\n",
    "users_df = pd.read_csv(USERS_PATH, usecols=['user_id', 'song_id', 'play_count'])"
   ]
  },
  {
   "cell_type": "markdown",
   "id": "056c7f09-8334-4268-91e2-f9e76c411391",
   "metadata": {},
   "source": [
    "## Univariate analysis"
   ]
  },
  {
   "cell_type": "code",
   "execution_count": null,
   "id": "2c57a077-95fa-4c11-8c26-96c61c73a920",
   "metadata": {},
   "outputs": [],
   "source": []
  }
 ],
 "metadata": {
  "kernelspec": {
   "display_name": "Python 3",
   "language": "python",
   "name": "python3"
  },
  "language_info": {
   "codemirror_mode": {
    "name": "ipython",
    "version": 3
   },
   "file_extension": ".py",
   "mimetype": "text/x-python",
   "name": "python",
   "nbconvert_exporter": "python",
   "pygments_lexer": "ipython3",
   "version": "3.8.8"
  }
 },
 "nbformat": 4,
 "nbformat_minor": 5
}
